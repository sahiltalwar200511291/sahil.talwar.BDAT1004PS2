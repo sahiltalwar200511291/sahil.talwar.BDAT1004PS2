{
 "cells": [
  {
   "cell_type": "markdown",
   "id": "1bd2a91f",
   "metadata": {},
   "source": [
    "# Problem set 2\n",
    "### Sahil Talwar 200511291"
   ]
  },
  {
   "cell_type": "markdown",
   "id": "090ee581",
   "metadata": {},
   "source": [
    "Question No 1:  \n",
    "Consider the following Python module:\n",
    "    \n",
    "What value is displayed when the last expression (a) is evaluated? Explain your answer by indicating what happens in every executed statement."
   ]
  },
  {
   "cell_type": "code",
   "execution_count": null,
   "id": "02261d38",
   "metadata": {},
   "outputs": [],
   "source": [
    "a = 0            # this a has global scope\n",
    "def b():         # b() has global scope\n",
    "    global a     # with gobal keyword all references/changes to a in b() function are to the global a\n",
    "    a = c(a)     \n",
    "def c(a):        # c has global scope and a has local scope.\n",
    "    return a + 2 # this a is the local a\n",
    "\n",
    "b()\n",
    "b()\n",
    "b()\n",
    "print(a)"
   ]
  },
  {
   "cell_type": "code",
   "execution_count": null,
   "id": "cb7d41bc",
   "metadata": {},
   "outputs": [],
   "source": [
    "#Answer No.1:  \n",
    "\n",
    "The final value of a is 6.  \n",
    " * in first b() function execution the value of a intially is 0 and after the first execution its value remain same.\n",
    " * in second b() function execution the value of a changed from 2 to 4 as 2 got added due to function c(a).\n",
    " * in third b() function execution the value of a changed from 4 to 6 as again 2 more got added due to function c(a)."
   ]
  },
  {
   "cell_type": "code",
   "execution_count": null,
   "id": "830cc4f1",
   "metadata": {},
   "outputs": [],
   "source": []
  },
  {
   "cell_type": "code",
   "execution_count": null,
   "id": "d47d0662",
   "metadata": {},
   "outputs": [],
   "source": []
  },
  {
   "cell_type": "markdown",
   "id": "a5c93b04",
   "metadata": {},
   "source": [
    "Question 2   \n",
    "Function fileLength(), given to you, takes the name of a file as input and returns the length of the file:  \n",
    "As shown, if the file cannot be found by the interpreter or if it cannot be read as a text file, an exception will be raised. Modify function fileLength() so that a friendly message is printed instead:"
   ]
  },
  {
   "cell_type": "code",
   "execution_count": null,
   "id": "0ac053cb",
   "metadata": {},
   "outputs": [],
   "source": [
    "#Answer No 2:\n",
    "\n",
    "def fileLength(filename):\n",
    "    try:\n",
    "       # returns the number of lines in file\n",
    "        infile = open(filename, 'r')    \n",
    "        lineList = infile.readlines()   #to read the data from file line by line\n",
    "        infile.close()\n",
    "        print(len(lineList))\n",
    "        return len(lineList)\n",
    "    except FileNotFoundError:           #to handle the error using except\n",
    "            print('File name '+'\"'+filename + '\"'+' not found')\n",
    "\n",
    "            \n",
    "fileLength('Problem Set 2.py')\n",
    "fileLength('roblem Set 2.py')"
   ]
  },
  {
   "cell_type": "code",
   "execution_count": null,
   "id": "b60aea5f",
   "metadata": {},
   "outputs": [],
   "source": []
  },
  {
   "cell_type": "code",
   "execution_count": null,
   "id": "98a646a6",
   "metadata": {},
   "outputs": [],
   "source": []
  },
  {
   "cell_type": "markdown",
   "id": "48a70db9",
   "metadata": {},
   "source": [
    "Question 3.  \n",
    "Write a class named Marsupial that can be used as shown below:  \n",
    "\n",
    "Now write a class named Kangaroo as a subclass of Marsupial that inherits all the attributes of Marsupial and also:  \n",
    "a. extends the Marsupial __init__ constructor to take, as input, the coordinates x and y of the Kangaroo object,  \n",
    "b. supports method jump that takes number values dx and dy as input and moves the kangaroo by dx units along the x-axis and by dy units along the y-axis, and  \n",
    "c. overloads the __str__ operator so it behaves as shown below.  "
   ]
  },
  {
   "cell_type": "code",
   "execution_count": null,
   "id": "f8dded32",
   "metadata": {},
   "outputs": [],
   "source": [
    "class Marsupial:  \n",
    "    def __init__(self):            #declaring the init function for initilization\n",
    "        self.arr=[]\n",
    "    def put_in_pouch(self, input):\n",
    "        self.arr.append(input)     #appending the input values in array arr[]\n",
    "    def pouch_contents(self):\n",
    "        print(self.arr)            #this function is to print the array values\n",
    "        \n",
    "        \n",
    "m = Marsupial()\n",
    "m.put_in_pouch('doll')\n",
    "m.put_in_pouch('firetruck')\n",
    "m.put_in_pouch('kitten')\n",
    "m.pouch_contents()"
   ]
  },
  {
   "cell_type": "code",
   "execution_count": null,
   "id": "3daa57f0",
   "metadata": {},
   "outputs": [],
   "source": []
  },
  {
   "cell_type": "code",
   "execution_count": null,
   "id": "226a4709",
   "metadata": {},
   "outputs": [],
   "source": [
    "class Marsupial:  \n",
    "    def __init__(self):                     #declaring the init function for initilization\n",
    "        self.arr=[]\n",
    "    def put_in_pouch(self, input):          #appending the input values in array arr[]\n",
    "        self.arr.append(input)\n",
    "    def pouch_contents(self):               #this function is to print the array values\n",
    "        print(self.arr)\n",
    "\n",
    "class Kangaroo(Marsupial):\n",
    "    def __init__(self, xcoord, ycoord):     #declaring the init function for initilization\n",
    "        self.x = xcoord\n",
    "        self.y = ycoord\n",
    "        self.arr=[]\n",
    "    def print(self):                        #print function to get the current location of kangaroo \n",
    "        print(f'I am a Kangaroo located at coordinates ({self.x},{self.y})') \n",
    "        \n",
    "    def jump(self, dx, dy):                 #change the x and y coordinates by dx and dy\n",
    "        self.x += dx\n",
    "        self.y += dy\n",
    "        return (self.x, self.y)\n",
    "    \n",
    "    \n",
    "    \n",
    "k = Kangaroo(0,0)\n",
    "k.print()\n",
    "k.put_in_pouch('doll')\n",
    "k.put_in_pouch('firetruck')\n",
    "k.put_in_pouch('kitten')\n",
    "k.pouch_contents()\n",
    "\n",
    "k.jump(1,0)\n",
    "k.jump(1,0)\n",
    "k.jump(1,0)\n",
    "k.print()"
   ]
  },
  {
   "cell_type": "code",
   "execution_count": null,
   "id": "f5de758c",
   "metadata": {},
   "outputs": [],
   "source": []
  },
  {
   "cell_type": "code",
   "execution_count": null,
   "id": "0f74185e",
   "metadata": {},
   "outputs": [],
   "source": []
  },
  {
   "cell_type": "markdown",
   "id": "ed07716b",
   "metadata": {},
   "source": [
    "Question no 4.  \n",
    "Write function collatz() that takes a positive integer x as input and prints the Collatz sequence starting at x. A Collatz sequence is obtained by repeatedly applying this rule to the previous number x in the sequence:  \n",
    "x =  𝑥/2 𝑖𝑓 𝑥 𝑖𝑠 𝑒𝑣𝑒𝑛  \n",
    "x =  3𝑥+1 𝑖𝑓 𝑥 𝑖𝑠 𝑜𝑑𝑑  \n",
    "Your function should stop when the sequence gets to number 1. Your implementation must be recursive, without any loops."
   ]
  },
  {
   "cell_type": "code",
   "execution_count": null,
   "id": "2ae62de6",
   "metadata": {},
   "outputs": [],
   "source": [
    "#Answer No.4\n",
    "#Approach no. 1\n",
    "\n",
    "def collatz(num):\n",
    "    while int(num) >= 1:           #if num value is >= 1 then loop will continue calling collatz function\n",
    "        print(num)\n",
    "        if int(num) == 1:          #if num = 1 then it print num\n",
    "            print(end='\\n')\n",
    "            break\n",
    "        elif num % 2 == 0:         #if number is even\n",
    "            num = (num // 2)\n",
    "        elif num % 2 == 1:         #if number is odd\n",
    "            num = (3*num) + 1\n",
    "        \n",
    "        \n",
    "collatz(1)\n",
    "\n",
    "collatz(10)"
   ]
  },
  {
   "cell_type": "code",
   "execution_count": null,
   "id": "a02a62cb",
   "metadata": {},
   "outputs": [],
   "source": [
    "#Answer No.4\n",
    "#Approach no.2  in which we request the user to input the number.\n",
    "\n",
    "def collatz(num):\n",
    "        if num % 2 == 0:         #if number is even\n",
    "            num = (num // 2)\n",
    "            return num\n",
    "        elif num % 2 == 1:         #if number is odd\n",
    "            num = (3*num) + 1\n",
    "            return num\n",
    "        \n",
    "\n",
    "num= input('Enter the number: ')\n",
    "while int(num) >= 1:           #if n value is >1 then loop will continue calling collatz function\n",
    "    print(num)\n",
    "    if int(num) == 1:          #if n = 1 then it print n\n",
    "        break\n",
    "    num = collatz(int(num))   \n",
    "    "
   ]
  },
  {
   "cell_type": "code",
   "execution_count": null,
   "id": "0506248d",
   "metadata": {},
   "outputs": [],
   "source": []
  },
  {
   "cell_type": "code",
   "execution_count": null,
   "id": "8b21dcb1",
   "metadata": {},
   "outputs": [],
   "source": []
  },
  {
   "cell_type": "markdown",
   "id": "b4e8719c",
   "metadata": {},
   "source": [
    "Question No 5.  \n",
    "Write a recursive method binary() that takes a non-negative integer n and prints the binary representation of integer n."
   ]
  },
  {
   "cell_type": "code",
   "execution_count": null,
   "id": "b47271cc",
   "metadata": {},
   "outputs": [],
   "source": [
    "#Answer No 5:\n",
    "#Approach 1:\n",
    "\n",
    "def binary(n):\n",
    "    a=[]\n",
    "    if n < 0:             #if this loop we are controlling the negative input values \n",
    "        print(\"NonNegative number is not allowed\") \n",
    "    elif n <= 1:\n",
    "        print(n)\n",
    "    else:\n",
    "        while n>0:\n",
    "            x = n%2\n",
    "            a.append(x)    #appending the remainder value in array\n",
    "            n =n//2\n",
    "        a.reverse()        #reversing the values order in array\n",
    "        print(end='\\n')\n",
    "    for i in a:            #using for loop to print the array\n",
    "        print(i,end='')\n",
    "    \n",
    "        \n",
    "binary(0)\n",
    "binary(1)\n",
    "binary(3)\n",
    "binary(9)"
   ]
  },
  {
   "cell_type": "code",
   "execution_count": null,
   "id": "d961cb51",
   "metadata": {},
   "outputs": [],
   "source": [
    "#Answer No 5:\n",
    "#Approach 2:\n",
    "\n",
    "def binary(n):\n",
    "    print('{:b}'.format(n))    #using binary function\n",
    "\n",
    "binary(0)\n",
    "binary(1)\n",
    "binary(3)\n",
    "binary(9)"
   ]
  },
  {
   "cell_type": "markdown",
   "id": "7f646e8d",
   "metadata": {},
   "source": [
    "Question 6.  \n",
    "Implement a class named HeadingParser that can be used to parse an HTML document, and retrieve and print all the headings in the document. You should implement your class as a subclass of HTMLParser, defined in Standard Library module html.parser. When fed a string containing HTML code, your class should print the headings, one per line and in the order in which they appear in the document. Each heading should be indented as follows: an h1 heading should have indentation 0, and h2 heading should have indentation 1, etc. Test your implementation using w3c.html."
   ]
  },
  {
   "cell_type": "code",
   "execution_count": null,
   "id": "8802ca12",
   "metadata": {},
   "outputs": [],
   "source": [
    "from html.parser import HTMLParser\n",
    "class HeadingParser(HTMLParser):\n",
    "    \n",
    "    def handle_starttag(self, tag, attrs):\n",
    "        if tag == 'h1' or tag == 'h2':\n",
    "            \n",
    "\n",
    "    def handle_endtag(self, tag):\n",
    "        print(\"End tag  :\", tag)\n",
    "\n",
    "    def handle_data(self, data):\n",
    "        print(\"Data     :\", data)\n",
    "                    \n",
    "infile = open('w3c.html') \n",
    "content = infile.read() \n",
    "infile.close()\n",
    "hp = HeadingParser()\n",
    "hp.feed(content)\n"
   ]
  },
  {
   "cell_type": "code",
   "execution_count": null,
   "id": "c1cb1033",
   "metadata": {},
   "outputs": [],
   "source": []
  },
  {
   "cell_type": "markdown",
   "id": "f51cb771",
   "metadata": {},
   "source": [
    "Question 7.  \n",
    "Implement recursive function webdir() that takes as input: a URL (as a string) and non-negative integers depth and indent. Your function should visit every web page reachable from the starting URL web page in depth clicks or less, and print each web page's URL. As shown below, indentation, specified by indent, should be used to indicate the depth of a URL."
   ]
  },
  {
   "cell_type": "code",
   "execution_count": null,
   "id": "f3d9057e",
   "metadata": {},
   "outputs": [],
   "source": []
  },
  {
   "cell_type": "markdown",
   "id": "2003cc28",
   "metadata": {},
   "source": [
    "Question No: 8  \n",
    "Write SQL queries on the below database table that return:  \n",
    "a) All the temperature data.  \n",
    "b) All the cities, but without repetition.   \n",
    "c) All the records for India.  \n",
    "d) All the Fall records.  \n",
    "e) The city, country, and season for which the average rainfall is between 200 and 400 millimeters.  \n",
    "f) The city and country for which the average Fall temperature is above 20 degrees, in increasing temperature order.  \n",
    "g) The total annual rainfall for Cairo.  \n",
    "h) The total rainfall for each season.  "
   ]
  },
  {
   "cell_type": "markdown",
   "id": "0dda16db",
   "metadata": {},
   "source": [
    "#Answer No.8:  \n",
    "a) Select temperature from country_details  \n",
    "b) select distinct cities from country_details  \n",
    "c) select * from country_details where upper(country)=upper('India')  \n",
    "d) select * from country_details where upper(season)=upper('Fall')  \n",
    "e) select city, country, season from country_details where (select avg(rainfall) from country_details) between 200 and 400;  \n",
    "f) select city, country from country_details \n",
    "where \n",
    "(select avg(temperature) from country_details \n",
    "where upper(season)=upper('Fall')) > 20 order by temperature  \n",
    "g) select sum(rainfall) from country_details where upper(country)=upper('Cairo')  \n",
    "f) select sum(rainfall) from country_details group by season  "
   ]
  },
  {
   "cell_type": "code",
   "execution_count": null,
   "id": "9bea4a28",
   "metadata": {},
   "outputs": [],
   "source": []
  },
  {
   "cell_type": "code",
   "execution_count": null,
   "id": "62e02121",
   "metadata": {},
   "outputs": [],
   "source": []
  },
  {
   "cell_type": "markdown",
   "id": "10e0df2c",
   "metadata": {},
   "source": [
    "Question 9  \n",
    "Suppose list words is defined as follows:  \n",
    ">words = ['The', 'quick', 'brown', 'fox', 'jumps', 'over', 'the', 'lazy', 'dog']  \n",
    "\n",
    "Write list comprehension expressions that use list words and generate the following lists:"
   ]
  },
  {
   "cell_type": "code",
   "execution_count": 1,
   "id": "a4fcee58",
   "metadata": {},
   "outputs": [
    {
     "name": "stdout",
     "output_type": "stream",
     "text": [
      "['THE', 'QUICK', 'BROWN', 'FOX', 'JUMPS', 'OVER', 'THE', 'LAZY', 'DOG']\n",
      "['the', 'quick', 'brown', 'fox', 'jumps', 'over', 'the', 'lazy', 'dog']\n",
      "[3, 5, 5, 3, 5, 4, 3, 4, 3]\n",
      "[['THE', 'the', 3], ['QUICK', 'quick', 5], ['BROWN', 'brown', 5], ['FOX', 'fox', 3], ['JUMPS', 'jumps', 5], ['OVER', 'over', 4], ['THE', 'the', 3], ['LAZY', 'lazy', 4], ['DOG', 'dog', 3]]\n",
      "['The', 'quick', 'brown', 'fox', 'jumps', 'over', 'the', 'lazy', 'dog']\n"
     ]
    }
   ],
   "source": [
    "#Answer No 9:\n",
    "\n",
    "words = ['The', 'quick', 'brown', 'fox', 'jumps', 'over', 'the', 'lazy', 'dog']\n",
    "#to make the words in UPPERCASE\n",
    "arr1=[]\n",
    "for i in words:\n",
    "    arr1.append(i.upper())\n",
    "print(arr1)\n",
    "\n",
    "\n",
    "#to make the words in LOWERCASE\n",
    "arr2=[]\n",
    "for i in words:\n",
    "    arr2.append(i.lower())\n",
    "print(arr2)\n",
    "\n",
    "\n",
    "#to get the length of each word in the list\n",
    "arr4=[]\n",
    "for i in words:\n",
    "    arr4.append(len(i))\n",
    "print(arr4)\n",
    "\n",
    "\n",
    "#to get sperate list of each word in a list with details in uppercase, lowercase and length of word\n",
    "arr5=[]\n",
    "for i in words:\n",
    "    arr6=[]\n",
    "    for j in i:\n",
    "        arr6.append(i.upper())\n",
    "        arr6.append(i.lower())\n",
    "        arr6.append(len(i))\n",
    "        break\n",
    "    arr5.append(arr6)\n",
    "print(arr5)\n",
    "\n",
    "#to make the first word in captialize\n",
    "arr3=[]\n",
    "for i in words:\n",
    "    if i==0:\n",
    "        arr3.append(i.capitalize())\n",
    "    else:\n",
    "        arr3.append(i)\n",
    "print(arr3)\n"
   ]
  }
 ],
 "metadata": {
  "kernelspec": {
   "display_name": "Python 3 (ipykernel)",
   "language": "python",
   "name": "python3"
  },
  "language_info": {
   "codemirror_mode": {
    "name": "ipython",
    "version": 3
   },
   "file_extension": ".py",
   "mimetype": "text/x-python",
   "name": "python",
   "nbconvert_exporter": "python",
   "pygments_lexer": "ipython3",
   "version": "3.9.7"
  }
 },
 "nbformat": 4,
 "nbformat_minor": 5
}
